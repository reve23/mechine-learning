{
 "cells": [
  {
   "cell_type": "markdown",
   "id": "a8fadee8",
   "metadata": {},
   "source": [
    "### scikit-learcn is an open source machine learning library that supports supervised and unsupervised learning.\n",
    "### model fitting,\n",
    "### data preprocessing\n",
    "### model selection\n",
    "### evaluation"
   ]
  },
  {
   "cell_type": "code",
   "execution_count": 9,
   "id": "6d287cb3",
   "metadata": {},
   "outputs": [
    {
     "data": {
      "text/plain": [
       "array([0, 1])"
      ]
     },
     "execution_count": 9,
     "metadata": {},
     "output_type": "execute_result"
    }
   ],
   "source": [
    "#Fitting and predicting \n",
    "#estimator basics\n",
    "#Each estimator can be fitted to some data using its \"fit\" method\n",
    "\n",
    "#RandomForestClassifier fit:==>\n",
    "\n",
    "from sklearn.ensemble import RandomForestClassifier\n",
    "classifier_value = RandomForestClassifier(random_state=0) \n",
    "\n",
    "\n",
    "X = [[1,2,3],[11,12,13]]#2 samples, 3 features\n",
    "y=[0,1]#classes of each sample\n",
    "\n",
    "classifier_value.fit(X,y)#The fit method generally accepts 2 inputs:\n",
    "#samples are represented as rows and features are represented as columns.\n",
    "#The size of X is typically (n_samples, n_features)\n",
    "\n",
    "\n",
    "classifier_value.predict(X)#predict classes of training data"
   ]
  },
  {
   "cell_type": "code",
   "execution_count": null,
   "id": "82af15ba",
   "metadata": {},
   "outputs": [],
   "source": [
    "#Transformers and pre-processors\n"
   ]
  },
  {
   "cell_type": "code",
   "execution_count": null,
   "id": "dd69a3e3",
   "metadata": {},
   "outputs": [],
   "source": []
  },
  {
   "cell_type": "code",
   "execution_count": null,
   "id": "8abff582",
   "metadata": {},
   "outputs": [],
   "source": []
  },
  {
   "cell_type": "code",
   "execution_count": null,
   "id": "db1c5484",
   "metadata": {},
   "outputs": [],
   "source": []
  },
  {
   "cell_type": "code",
   "execution_count": null,
   "id": "a746d858",
   "metadata": {},
   "outputs": [],
   "source": []
  }
 ],
 "metadata": {
  "kernelspec": {
   "display_name": "Python 3",
   "language": "python",
   "name": "python3"
  },
  "language_info": {
   "codemirror_mode": {
    "name": "ipython",
    "version": 3
   },
   "file_extension": ".py",
   "mimetype": "text/x-python",
   "name": "python",
   "nbconvert_exporter": "python",
   "pygments_lexer": "ipython3",
   "version": "3.8.8"
  }
 },
 "nbformat": 4,
 "nbformat_minor": 5
}
