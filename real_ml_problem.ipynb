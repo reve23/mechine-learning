{
 "cells": [
  {
   "cell_type": "markdown",
   "id": "c1643b84",
   "metadata": {},
   "source": [
    "# steps\n",
    "1. import data\n",
    "2. clean the data\n",
    "3. split the data into training / test sets\n",
    "4. create a model\n",
    "5. train the model\n",
    "6. make predictions\n",
    "7. evaluate and improve"
   ]
  },
  {
   "cell_type": "code",
   "execution_count": 9,
   "id": "849742af",
   "metadata": {},
   "outputs": [],
   "source": [
    "#importing modules\n",
    "import pandas as pd\n",
    "from sklearn.tree import DecisionTreeClassifier\n",
    "\n",
    "#importing data\n",
    "music_data = pd.read_csv('music.csv')\n",
    "music_data\n",
    "#creating the instence of DecisionTreeClassifier\n",
    "model = DecisionTreeClassifier()"
   ]
  },
  {
   "cell_type": "code",
   "execution_count": null,
   "id": "54b625fc",
   "metadata": {},
   "outputs": [],
   "source": [
    "#cleaing data\n",
    "#data is already cleaned"
   ]
  },
  {
   "cell_type": "code",
   "execution_count": 6,
   "id": "6ddbd07c",
   "metadata": {},
   "outputs": [
    {
     "data": {
      "text/plain": [
       "0     classical\n",
       "1     classical\n",
       "2     classical\n",
       "3     classical\n",
       "4         dance\n",
       "5         dance\n",
       "6      acoustic\n",
       "7      acoustic\n",
       "8      acoustic\n",
       "9         dance\n",
       "10        dance\n",
       "11     acoustic\n",
       "12     acoustic\n",
       "13        dance\n",
       "14     acoustic\n",
       "15     acoustic\n",
       "16     acoustic\n",
       "17    classical\n",
       "18     acoustic\n",
       "19     acoustic\n",
       "20     acoustic\n",
       "21        dance\n",
       "22     acoustic\n",
       "23     acoustic\n",
       "24    classical\n",
       "25    classical\n",
       "26    classical\n",
       "27     acoustic\n",
       "28     acoustic\n",
       "29     acoustic\n",
       "30    classical\n",
       "31        dance\n",
       "32        dance\n",
       "33        dance\n",
       "34    classical\n",
       "35    classical\n",
       "36        dance\n",
       "37    classical\n",
       "38        dance\n",
       "39     acoustic\n",
       "40     acoustic\n",
       "41    classical\n",
       "42    classical\n",
       "43    classical\n",
       "Name: genre, dtype: object"
      ]
     },
     "execution_count": 6,
     "metadata": {},
     "output_type": "execute_result"
    }
   ],
   "source": [
    "#spliting the data\n",
    "X = music_data.drop(columns=['genre'])\n",
    "y = music_data['genre']\n",
    "#outputting X\n",
    "X"
   ]
  },
  {
   "cell_type": "code",
   "execution_count": 7,
   "id": "40d9f6b6",
   "metadata": {},
   "outputs": [
    {
     "data": {
      "text/plain": [
       "0     classical\n",
       "1     classical\n",
       "2     classical\n",
       "3     classical\n",
       "4         dance\n",
       "5         dance\n",
       "6      acoustic\n",
       "7      acoustic\n",
       "8      acoustic\n",
       "9         dance\n",
       "10        dance\n",
       "11     acoustic\n",
       "12     acoustic\n",
       "13        dance\n",
       "14     acoustic\n",
       "15     acoustic\n",
       "16     acoustic\n",
       "17    classical\n",
       "18     acoustic\n",
       "19     acoustic\n",
       "20     acoustic\n",
       "21        dance\n",
       "22     acoustic\n",
       "23     acoustic\n",
       "24    classical\n",
       "25    classical\n",
       "26    classical\n",
       "27     acoustic\n",
       "28     acoustic\n",
       "29     acoustic\n",
       "30    classical\n",
       "31        dance\n",
       "32        dance\n",
       "33        dance\n",
       "34    classical\n",
       "35    classical\n",
       "36        dance\n",
       "37    classical\n",
       "38        dance\n",
       "39     acoustic\n",
       "40     acoustic\n",
       "41    classical\n",
       "42    classical\n",
       "43    classical\n",
       "Name: genre, dtype: object"
      ]
     },
     "execution_count": 7,
     "metadata": {},
     "output_type": "execute_result"
    }
   ],
   "source": [
    "#outputting y\n",
    "y"
   ]
  },
  {
   "cell_type": "code",
   "execution_count": 11,
   "id": "b0de93a9",
   "metadata": {},
   "outputs": [
    {
     "data": {
      "text/plain": [
       "DecisionTreeClassifier()"
      ]
     },
     "execution_count": 11,
     "metadata": {},
     "output_type": "execute_result"
    }
   ],
   "source": [
    "model.fit(X,y)\n",
    "#feeding the data into our DecisionTreeClassifier"
   ]
  },
  {
   "cell_type": "code",
   "execution_count": 14,
   "id": "d6c6ace5",
   "metadata": {},
   "outputs": [
    {
     "data": {
      "text/plain": [
       "array(['acoustic', 'classical'], dtype=object)"
      ]
     },
     "execution_count": 14,
     "metadata": {},
     "output_type": "execute_result"
    }
   ],
   "source": [
    "#make predictions\n",
    "predictions = model.predict([ [21,1],[22,1] ])\n",
    "predictions"
   ]
  },
  {
   "cell_type": "code",
   "execution_count": 89,
   "id": "0a2cf307",
   "metadata": {},
   "outputs": [
    {
     "data": {
      "text/plain": [
       "0.3611111111111111"
      ]
     },
     "execution_count": 89,
     "metadata": {},
     "output_type": "execute_result"
    }
   ],
   "source": [
    "#calculating accuracy\n",
    "# importing modules\n",
    "from sklearn.model_selection import train_test_split\n",
    "from sklearn.metrics import accuracy_score\n",
    "# splitting data\n",
    "X_train,X_test,y_train,y_test = train_test_split(X,y,test_size=0.8)\n",
    "# feeding data\n",
    "model.fit(X_train,y_train)\n",
    "predictions = model.predict(X_test)\n",
    "score = accuracy_score(y_test,predictions)\n",
    "score"
   ]
  },
  {
   "cell_type": "code",
   "execution_count": null,
   "id": "4a3faeaf",
   "metadata": {},
   "outputs": [],
   "source": []
  }
 ],
 "metadata": {
  "kernelspec": {
   "display_name": "Python 3",
   "language": "python",
   "name": "python3"
  },
  "language_info": {
   "codemirror_mode": {
    "name": "ipython",
    "version": 3
   },
   "file_extension": ".py",
   "mimetype": "text/x-python",
   "name": "python",
   "nbconvert_exporter": "python",
   "pygments_lexer": "ipython3",
   "version": "3.8.8"
  }
 },
 "nbformat": 4,
 "nbformat_minor": 5
}
