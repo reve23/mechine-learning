{
 "cells": [
  {
   "cell_type": "markdown",
   "id": "32acad4a",
   "metadata": {},
   "source": [
    "#FASTER TO READ LESS BYTES OF MEMORY\n",
    "\n",
    "#CONTIGUOUS MEMORY\n"
   ]
  },
  {
   "cell_type": "markdown",
   "id": "8297b1ed",
   "metadata": {},
   "source": [
    "# list and numpy\n",
    "##a = [1,3,5] | a = np.array([1,3,5])\n",
    "##b = [1,2,3] | b = np.array([1,2,3])\n",
    "a*b = ERROR | a*b = np.array([1,"
   ]
  }
 ],
 "metadata": {
  "kernelspec": {
   "display_name": "Python 3",
   "language": "python",
   "name": "python3"
  },
  "language_info": {
   "codemirror_mode": {
    "name": "ipython",
    "version": 3
   },
   "file_extension": ".py",
   "mimetype": "text/x-python",
   "name": "python",
   "nbconvert_exporter": "python",
   "pygments_lexer": "ipython3",
   "version": "3.8.8"
  }
 },
 "nbformat": 4,
 "nbformat_minor": 5
}
